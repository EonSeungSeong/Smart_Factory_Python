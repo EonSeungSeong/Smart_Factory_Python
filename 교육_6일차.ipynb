{
 "cells": [
  {
   "cell_type": "code",
   "execution_count": 4,
   "id": "1024acbf",
   "metadata": {},
   "outputs": [
    {
     "data": {
      "text/plain": [
       "'/home/user303/1_eonseung/스마트팩토리'"
      ]
     },
     "execution_count": 4,
     "metadata": {},
     "output_type": "execute_result"
    }
   ],
   "source": [
    "pwd()"
   ]
  },
  {
   "cell_type": "code",
   "execution_count": 39,
   "id": "cf990ef0",
   "metadata": {
    "scrolled": true
   },
   "outputs": [
    {
     "name": "stdout",
     "output_type": "stream",
     "text": [
      "1. 암호화 2. 암호해석 중 선택 : 1\n",
      "입력 파일명 입력 : test.txt\n",
      "출력 파일명 입력: test_2.txt\n",
      "안녕하세요 반갑습니다.\n",
      "가나다라마바사\n",
      "성언승\n",
      "암호화 완료! 암호화 파일명 test_2.txt\n"
     ]
    }
   ],
   "source": [
    "import os\n",
    "inFp, outFp = None, None\n",
    "inStr, outStr = \"\", \"\"\n",
    "\n",
    "secuYN = input(\"1. 암호화 2. 암호해석 중 선택 : \")\n",
    "\n",
    "inFname = input(\"입력 파일명 입력 : \")\n",
    "outFname = input(\"출력 파일명 입력: \")\n",
    "\n",
    "def encryption(fname): #암호화 함수 정의\n",
    "    final=\"\"\n",
    "    for ix in fname:\n",
    "        num=ord(ix)\n",
    "        final+=chr(num+100)\n",
    "    return final\n",
    "\n",
    "def decryption(fname): #복호화 함수 정의\n",
    "    final=\"\"\n",
    "    for ix in fname:\n",
    "        num=ord(ix)\n",
    "        final+=chr(num-100)\n",
    "    return final\n",
    "    \n",
    "try:\n",
    "    if not os.path.exists(inFname):\n",
    "        raise Exception(\"{0}은 미존재 파일\".format(inFname))\n",
    "          \n",
    "except Exception as err:\n",
    "    print(\"예외 발생: {0}\".format(err))\n",
    "else:\n",
    "    inFp = open(\"/home/user303/1_eonseung/스마트팩토리/\"+inFname, \"r\", encoding=\"utf-8\")\n",
    "    inStr=inFp.read()\n",
    "    print(inStr)\n",
    "    inFp.close()\n",
    "    outFp = open(\"/home/user303/1_eonseung/스마트팩토리/\"+outFname, \"w\", encoding=\"utf-8\")\n",
    "    if secuYN==\"1\":        \n",
    "        outFp.write(encryption(inStr))\n",
    "        outFp.close()\n",
    "        print(\"암호화 완료! 암호화 파일명 {0}\".format(outFname))\n",
    "        \n",
    "    elif secuYN==\"2\":\n",
    "        outFp.write(decryption(inStr))\n",
    "        outFp.close()\n",
    "        print(\"복호화 완료! 복호화 파일명 {0}\".format(outFname))\n",
    "    "
   ]
  }
 ],
 "metadata": {
  "kernelspec": {
   "display_name": "Python 3 (ipykernel)",
   "language": "python",
   "name": "python3"
  },
  "language_info": {
   "codemirror_mode": {
    "name": "ipython",
    "version": 3
   },
   "file_extension": ".py",
   "mimetype": "text/x-python",
   "name": "python",
   "nbconvert_exporter": "python",
   "pygments_lexer": "ipython3",
   "version": "3.8.10"
  }
 },
 "nbformat": 4,
 "nbformat_minor": 5
}
