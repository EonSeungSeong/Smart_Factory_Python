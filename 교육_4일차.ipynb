{
 "cells": [
  {
   "cell_type": "code",
   "execution_count": 7,
   "id": "1d0b0fff",
   "metadata": {
    "scrolled": true
   },
   "outputs": [
    {
     "name": "stdout",
     "output_type": "stream",
     "text": [
      "decorate\n",
      "original\n"
     ]
    }
   ],
   "source": [
    "def deco(func):\n",
    "    def deco_func(*args, **kwargs):\n",
    "        print(\"decorate\")          # 데코레이트 부분\n",
    "        return func(*args, **kwargs)  # 바깥함수의 입력인자로 받은 (데코레이트 할) 함수를 리턴 \n",
    "    return deco_func              # 실제 데코레이터 함수 이름 리턴  \n",
    "@deco\n",
    "def original_func( ):\n",
    "    print(\"original\")\n",
    "original_func( ) \n"
   ]
  },
  {
   "cell_type": "code",
   "execution_count": 16,
   "id": "8b2d9882",
   "metadata": {
    "scrolled": true
   },
   "outputs": [
    {
     "name": "stdout",
     "output_type": "stream",
     "text": [
      "s: 첫번째 문자열 입력:   ab c d  \n",
      "t: 두번째 문자열 입력: a b  cd \n",
      "0\n"
     ]
    }
   ],
   "source": [
    "import re\n",
    "s=input(\"s: 첫번째 문자열 입력: \")\n",
    "t=input(\"t: 두번째 문자열 입력: \")\n",
    "\n",
    "def deco(func):\n",
    "    def stricmp(*args, **kwargs): #args[0]->s ,args[1]->t\n",
    "        #s=args[0].replace(\" \",\"\")\n",
    "        #re 패키지 사용\n",
    "        s= re.sub(\" \", \"\", args[0])\n",
    "        t= re.sub(\" \", \"\", args[1])\n",
    "        #t=args[1].replace(\" \",\"\")\n",
    "        return func(s,t)  # 바깥함수의 입력인자로 받은 (데코레이트 할) 함수를 리턴 \n",
    "    return stricmp           # 실제 데코레이터 함수 이름 리턴  \n",
    "\n",
    "@deco #데코레이터 함수 선언\n",
    "def strcmp(s,t):\n",
    "    #문자열 최소개수만큼 반복 \n",
    "    for ix in range(min(len(s),len(t))):\n",
    "        s_ord,t_ord=ord(s[ix]),ord(t[ix])\n",
    "        if s_ord < t_ord:\n",
    "            return -1\n",
    "        elif s_ord > t_ord:\n",
    "            return 1\n",
    "        else:\n",
    "            continue\n",
    "    # 문자열 개수 차이가 있을 경우\n",
    "    if len(s) < len(t):\n",
    "        return -1\n",
    "    elif len(s) > len(t):\n",
    "        return 1\n",
    "    else:\n",
    "        return 0\n",
    "    \n",
    "result=strcmp(s,t)\n",
    "print(result)"
   ]
  },
  {
   "cell_type": "code",
   "execution_count": 125,
   "id": "0c4b1745",
   "metadata": {
    "scrolled": true
   },
   "outputs": [],
   "source": [
    "from math import pow\n",
    "\n",
    "class Time:\n",
    "    def __init__(self ,hour, minute, sec ,day=0):\n",
    "        self.hour=hour\n",
    "        self.minute=minute\n",
    "        self.sec=sec\n",
    "        self.day=day\n",
    "        \n",
    "    #시/분/초-> 초 변환\n",
    "    def input2second(self):\n",
    "        return self.hour*(pow(60,2)) + self.minute*N + self.sec\n",
    "    \n",
    "    #초-> 시/분/초 변환\n",
    "    def second2time(time_total=0):\n",
    "        hour= (time_total // 60) // 60\n",
    "        minute= (time_total // 60) % 60\n",
    "        sec= time_total % 60\n",
    "        \n",
    "        if hour>=24:\n",
    "            day=hour//24\n",
    "            hour-=24\n",
    "        elif hour<0:\n",
    "            day=-1\n",
    "            hour+=24\n",
    "        else:\n",
    "            day=0\n",
    "        return Time(hour,minute,sec,day=day_)\n",
    "\n",
    "    def __add__(self,other): #시간 덧셈\n",
    "        time_total=self.input2second()+other.input2second()\n",
    "        return Time.second2time(time_total)\n",
    "                                     \n",
    "    def __sub__(self,other): #시간 뺼셈\n",
    "        time_total=self.input2second()-other.input2second()\n",
    "        return Time.second2time(time_total)\n",
    "    \n",
    "    def __lt__(self,other):  # <\n",
    "        return (self.input2second()<other.input2second())\n",
    "    def __gt__(self,other): # >\n",
    "        return (self.input2second()>other.input2second())\n",
    "    def __eq__(self,other): # ==\n",
    "        return self.input2second()==other.input2second()\n",
    "\n",
    "    def __repr__(self): #print\n",
    "        if self.day==0:\n",
    "            return str(int(self.hour))+' 시'+str(int(self.minute))+' 분'+str(int(self.sec))+' 초'\n",
    "        elif self.day>0:\n",
    "            return \"하루 뒤\"+str(int(self.hour))+' 시'+str(int(self.minute))+' 분'+str(int(self.sec))+' 초'\n",
    "        else:\n",
    "            return \"하루 전\"+str(int(self.hour))+' 시'+str(int(self.minute))+' 분'+str(int(self.sec))+' 초'\n",
    "            \n"
   ]
  },
  {
   "cell_type": "code",
   "execution_count": 122,
   "id": "03f6cdcd",
   "metadata": {
    "scrolled": true
   },
   "outputs": [
    {
     "name": "stdout",
     "output_type": "stream",
     "text": [
      "시 입력 : 15\n",
      "분 입력 : 0\n",
      "초 입력 : 0\n",
      "하루 뒤1 시10 분10 초\n",
      "하루 전19 시10 분10 초\n",
      "첫번째 시간이 이른 시간입니다\n"
     ]
    }
   ],
   "source": [
    "hour=int(input(\"시 입력 : \"))\n",
    "min_=int(input(\"분 입력 : \"))\n",
    "sec=int(input(\"초 입력 : \"))\n",
    "\n",
    "first_time=Time(10,10,10)\n",
    "second_time=Time(hour,min_,sec)\n",
    "add_time=first_time+second_time\n",
    "sub_time = first_time - second_time\n",
    "\n",
    "print(add_time)\n",
    "\n",
    "print(sub_time)\n",
    "\n",
    "\n",
    "if (first_time > second_time):\n",
    "    print(\"첫번째 시간이 늦은 시간입니다\")\n",
    "if (first_time < second_time):\n",
    "    print(\"첫번째 시간이 이른 시간입니다\")\n",
    "if (first_time == second_time):\n",
    "    print(\"두 시간이 같은 시간입니다\")"
   ]
  },
  {
   "cell_type": "code",
   "execution_count": null,
   "id": "728ecf14",
   "metadata": {},
   "outputs": [],
   "source": []
  }
 ],
 "metadata": {
  "kernelspec": {
   "display_name": "Python 3 (ipykernel)",
   "language": "python",
   "name": "python3"
  },
  "language_info": {
   "codemirror_mode": {
    "name": "ipython",
    "version": 3
   },
   "file_extension": ".py",
   "mimetype": "text/x-python",
   "name": "python",
   "nbconvert_exporter": "python",
   "pygments_lexer": "ipython3",
   "version": "3.8.10"
  }
 },
 "nbformat": 4,
 "nbformat_minor": 5
}
