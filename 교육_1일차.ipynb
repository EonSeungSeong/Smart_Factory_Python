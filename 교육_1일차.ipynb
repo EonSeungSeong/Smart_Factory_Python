{
 "cells": [
  {
   "cell_type": "code",
   "execution_count": null,
   "id": "608fa7a2",
   "metadata": {},
   "outputs": [],
   "source": [
    "oct(-124)"
   ]
  },
  {
   "cell_type": "code",
   "execution_count": null,
   "id": "2926d6fd",
   "metadata": {},
   "outputs": [],
   "source": [
    "bin(-8)"
   ]
  },
  {
   "cell_type": "code",
   "execution_count": null,
   "id": "b9a2bc13",
   "metadata": {},
   "outputs": [],
   "source": [
    "bin(-12)"
   ]
  },
  {
   "cell_type": "code",
   "execution_count": null,
   "id": "534710bc",
   "metadata": {},
   "outputs": [],
   "source": [
    "ord(\"A\")"
   ]
  },
  {
   "cell_type": "code",
   "execution_count": null,
   "id": "7d151139",
   "metadata": {},
   "outputs": [],
   "source": [
    "a=\"Hello,World\""
   ]
  },
  {
   "cell_type": "code",
   "execution_count": null,
   "id": "535b40fa",
   "metadata": {},
   "outputs": [],
   "source": [
    "a[2:30]"
   ]
  },
  {
   "cell_type": "code",
   "execution_count": null,
   "id": "7363ba51",
   "metadata": {},
   "outputs": [],
   "source": [
    "num=int(input(\"정수를 입력해주세요.\"))\n",
    "print(num)\n",
    "num1=num\n",
    "\n",
    "check=0x8000000000000000\n",
    "check2=0b1000000000000000000000000000000000000000000000000000000000000000\n",
    "#0개수 측정기\n",
    "i=0\n",
    "input_check=''\n",
    "while (i<64):\n",
    "    if (num1&check)==0:  \n",
    "        print(\"0\",end=\"\")\n",
    "        #input_check+=input_check+'0'\n",
    "    else:\n",
    "        print('1',end=\"\")\n",
    "        #input_check+=input_check+'0'\n",
    "    num1=num1<<1\n",
    "    i+=1\n",
    "# result='0b'+input_check\n",
    "# final=int(result)\n",
    "# print(final)"
   ]
  },
  {
   "cell_type": "code",
   "execution_count": 20,
   "id": "faf7bef1",
   "metadata": {
    "scrolled": true
   },
   "outputs": [
    {
     "name": "stdout",
     "output_type": "stream",
     "text": [
      "정수를 입력해주세요: 10\n",
      "input n: 2\n",
      "0000000000000000000000000000000000000000000000000000000000001010\n",
      "\n",
      "===========================================================\n",
      "\n",
      "\n",
      "0000000000000000000000000000000000000000000000000000000000101000"
     ]
    }
   ],
   "source": [
    "num=int(input(\"정수를 입력해주세요: \"))\n",
    "n=int(input(\"input n: \"))\n",
    "num1=num\n",
    "\n",
    "check=0x8000000000000000\n",
    "#check2=0b1000000000000000000000000000000000000000000000000000000000000000\n",
    "\n",
    "#기존 10진수 출력\n",
    "i=0\n",
    "while (i<64):\n",
    "    \n",
    "    if (num1&check)==0:  \n",
    "        print(\"0\",end=\"\")\n",
    "        \n",
    "    else:\n",
    "        print('1',end=\"\")\n",
    "        \n",
    "    num1=num1<<1\n",
    "    i+=1\n",
    "print('\\n')\n",
    "print(\"===========================================================\")\n",
    "print('\\n')\n",
    "i=0    \n",
    "#n_bit left 순환시프트 \n",
    "while (i<n):\n",
    "    \n",
    "    if (num&check)==0:\n",
    "        num=num<<1\n",
    "    else: #제일 앞 bit가 1일 경우\n",
    "        num=num<<1\n",
    "        num=num|1\n",
    "    i+=1\n",
    "# 시프트한 수 재저장\n",
    "num1=num\n",
    "\n",
    "i=0\n",
    "while (i<64):\n",
    "    \n",
    "    if (num1&check)==0:  \n",
    "        print(\"0\",end=\"\")\n",
    "        \n",
    "    else:\n",
    "        print('1',end=\"\")\n",
    "        \n",
    "    num1=num1<<1\n",
    "    i+=1"
   ]
  }
 ],
 "metadata": {
  "kernelspec": {
   "display_name": "Python 3 (ipykernel)",
   "language": "python",
   "name": "python3"
  },
  "language_info": {
   "codemirror_mode": {
    "name": "ipython",
    "version": 3
   },
   "file_extension": ".py",
   "mimetype": "text/x-python",
   "name": "python",
   "nbconvert_exporter": "python",
   "pygments_lexer": "ipython3",
   "version": "3.8.10"
  }
 },
 "nbformat": 4,
 "nbformat_minor": 5
}
