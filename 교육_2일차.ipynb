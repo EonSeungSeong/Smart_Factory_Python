{
 "cells": [
  {
   "cell_type": "code",
   "execution_count": null,
   "id": "1a7eedb2",
   "metadata": {},
   "outputs": [],
   "source": [
    "#조건문 part"
   ]
  },
  {
   "cell_type": "code",
   "execution_count": null,
   "id": "b54c270c",
   "metadata": {},
   "outputs": [],
   "source": [
    "#16진수->10진수 변환\n",
    "import sys\n",
    "\n",
    "hex_num=input(\"16진수를 입력하세요: \")\n",
    "value=0\n",
    "result=0\n",
    "\n",
    "for ix in hex_num:\n",
    "    if ix >='0' and ix<='9': #0~9값일 때\n",
    "        result=ord(ix)-ord('0')\n",
    "    elif ix >='A' and ix<='F': #A~F일 떄 +10\n",
    "        result=ord(ix)-ord('A')+10\n",
    "    else:\n",
    "        print(\"16진수가 아닙니다.\")\n",
    "        sys.exit(0)\n",
    "    value=value*16+result\n",
    "        \n",
    "        \n",
    "print(\"16진수:{a} -> 10진수:{b}\".format(a=hex_num,b=value))"
   ]
  },
  {
   "cell_type": "code",
   "execution_count": null,
   "id": "7676bd7e",
   "metadata": {},
   "outputs": [],
   "source": [
    "a=ord('A')"
   ]
  },
  {
   "cell_type": "code",
   "execution_count": null,
   "id": "e4182f4b",
   "metadata": {
    "scrolled": true
   },
   "outputs": [],
   "source": [
    "print(a)\n",
    "print(type(a))"
   ]
  },
  {
   "cell_type": "code",
   "execution_count": null,
   "id": "ad6645b4",
   "metadata": {},
   "outputs": [],
   "source": [
    "b=ord('F')\n",
    "print(b)"
   ]
  },
  {
   "cell_type": "code",
   "execution_count": null,
   "id": "58053c51",
   "metadata": {
    "scrolled": true
   },
   "outputs": [],
   "source": [
    "#16진수->10진수 변환\n",
    "import sys\n",
    "\n",
    "hex_num=input(\"16진수를 입력하세요: \")\n",
    "value=0\n",
    "result=0\n",
    "\n",
    "for ix in hex_num:\n",
    "    if ix >='0' and ix<='9': #0~9값일 때\n",
    "        result=ord(ix)-ord('0')\n",
    "    elif ix >='A' and ix<='F': #A~F일 떄 +10\n",
    "        result=ord(ix)-ord('A')+10\n",
    "    else:\n",
    "        print(\"16진수가 아닙니다.\")\n",
    "        sys.exit(0)\n",
    "    value=value*16+result\n",
    "        \n",
    "        \n",
    "print(\"16진수:{a} -> 10진수:{b}\".format(a=hex_num,b=value))"
   ]
  },
  {
   "cell_type": "code",
   "execution_count": null,
   "id": "3086ab4f",
   "metadata": {},
   "outputs": [],
   "source": [
    "s=input(\"대상 문자열 입력: \")\n",
    "a=int(input(\"시작 지점 입력: \"))\n",
    "b=int(input(\"취할 갯수 입력: \"))\n",
    "\n",
    "fin=a+b #시작지점부터 끝나는지점 slicing을 위한 변수\n",
    "\n",
    "if a > len(s): #시작지점이 문자열 개수를 초과할 때 ex) 'abcde' 시작지점:6\n",
    "    print(\"시작지점이 잘못되었습니다.\")\n",
    "elif fin-1 > len(s): #종료지점이 문자열 개수를 초과할 때\n",
    "    print(\"종료지점이 잘못되었습니다.\")\n",
    "else:\n",
    "    result=s[a-1:fin-1]\n",
    "    print(\"결과 문자열은 {0} 입니다\".format(result)) "
   ]
  },
  {
   "cell_type": "code",
   "execution_count": null,
   "id": "ae8f24d3",
   "metadata": {},
   "outputs": [],
   "source": [
    "s=input(\"대상 문자열 입력: \")\n",
    "a=int(input(\"시작 지점 입력: \"))\n",
    "b=int(input(\"취할 갯수 입력: \"))\n",
    "\n",
    "fin=a+b #시작지점부터 끝나는지점 slicing을 위한 변수\n",
    "\n",
    "if a > len(s): #시작지점이 문자열 개수를 초과할 때 ex) 'abcde' 시작지점:6\n",
    "    print(\"시작지점이 잘못되었습니다.\")\n",
    "elif fin-1 > len(s): #종료지점이 문자열 개수를 초과할 때\n",
    "    print(\"종료지점이 잘못되었습니다.\")\n",
    "else:\n",
    "    result=s[a-1:fin-1]\n",
    "    print(\"결과 문자열은 {0} 입니다\".format(result)) "
   ]
  },
  {
   "cell_type": "code",
   "execution_count": null,
   "id": "44eb375c",
   "metadata": {},
   "outputs": [],
   "source": [
    "s=input(\"대상 문자열 입력: \")\n",
    "a=int(input(\"시작 지점 입력: \"))\n",
    "b=int(input(\"취할 갯수 입력: \"))\n",
    "\n",
    "fin=a+b #시작지점부터 끝나는지점 slicing을 위한 변수\n",
    "\n",
    "if a > len(s): #시작지점이 문자열 개수를 초과할 때 ex) 'abcde' 시작지점:6\n",
    "    print(\"시작지점이 잘못되었습니다.\")\n",
    "elif fin-1 > len(s): #종료지점이 문자열 개수를 초과할 때\n",
    "    print(\"종료지점이 잘못되었습니다.\")\n",
    "else:\n",
    "    result=s[a-1:fin-1]\n",
    "    print(\"결과 문자열은 {0} 입니다\".format(result)) "
   ]
  },
  {
   "cell_type": "code",
   "execution_count": 1,
   "id": "3035e546",
   "metadata": {},
   "outputs": [
    {
     "name": "stdout",
     "output_type": "stream",
     "text": [
      "정수 입력: 50\n",
      "비트 수 입력 : 2\n",
      "입력값 이진수 출력: 0000000000000000000000000000000000000000000000000000000000110010\n",
      "--------------------------------------------------------------------------------\n"
     ]
    },
    {
     "ename": "KeyboardInterrupt",
     "evalue": "",
     "output_type": "error",
     "traceback": [
      "\u001b[0;31m---------------------------------------------------------------------------\u001b[0m",
      "\u001b[0;31mKeyboardInterrupt\u001b[0m                         Traceback (most recent call last)",
      "Input \u001b[0;32mIn [1]\u001b[0m, in \u001b[0;36m<module>\u001b[0;34m\u001b[0m\n\u001b[1;32m     20\u001b[0m j \u001b[38;5;241m=\u001b[39m \u001b[38;5;241m0\u001b[39m\n\u001b[1;32m     21\u001b[0m \u001b[38;5;28;01mwhile\u001b[39;00m (j \u001b[38;5;241m<\u001b[39m n):\n\u001b[0;32m---> 22\u001b[0m     \u001b[38;5;28;01mif\u001b[39;00m(\u001b[43mnum\u001b[49m \u001b[38;5;241m>\u001b[39m\u001b[38;5;241m=\u001b[39m \u001b[38;5;241m0\u001b[39m): \u001b[38;5;66;03m#num이 양수일 때\u001b[39;00m\n\u001b[1;32m     23\u001b[0m         \u001b[38;5;28;01mif\u001b[39;00m((num \u001b[38;5;241m&\u001b[39m \u001b[38;5;241m1\u001b[39m) \u001b[38;5;241m==\u001b[39m \u001b[38;5;241m0\u001b[39m): \u001b[38;5;66;03m#마지막 비트가 0일때\u001b[39;00m\n\u001b[1;32m     24\u001b[0m             num \u001b[38;5;241m=\u001b[39m num \u001b[38;5;241m>>\u001b[39m \u001b[38;5;241m1\u001b[39m\n",
      "\u001b[0;31mKeyboardInterrupt\u001b[0m: "
     ]
    }
   ],
   "source": [
    "num = int(input(\"정수 입력: \"))\n",
    "n = int(input(\"비트 수 입력 : \"))\n",
    "\n",
    "check = 0x8000000000000000\n",
    "num1 = num\n",
    "i = 0\n",
    "\n",
    "print(\"입력값 이진수 출력: \",end='')\n",
    "while (i<64): #2진수 출력\n",
    "    if((num1 & check) == 0):\n",
    "        print(\"0\", end = \"\")\n",
    "    else:\n",
    "        print(\"1\", end = \"\")\n",
    "                \n",
    "    num1 = num1 << 1\n",
    "    i+=1\n",
    "print()\n",
    "print('-'*80)\n",
    "\n",
    "j = 0\n",
    "while (j < n):\n",
    "    if(num >= 0): #num이 양수일 때\n",
    "        if((num & 1) == 0): #마지막 비트가 0일때\n",
    "            num = num >> 1\n",
    "            #print(num)\n",
    "        else:               #shift중 마지막 비트가 1일때\n",
    "            num = num >> 1\n",
    "            num = num | check #or 연산으로 1로 만듦\n",
    "            #print(num)\n",
    "        i+= 1\n",
    "    else: #num이 음수일 때\n",
    "        if((num & 1) == 1):  \n",
    "            num = num >> 1\n",
    "            #print(num)\n",
    "        else:               \n",
    "            num = num >> 1\n",
    "            num = num & ~check\n",
    "            #print(num)\n",
    "        i+= 1\n",
    "        \n",
    "\n",
    "num1 = num\n",
    "\n",
    "k = 0\n",
    "print(\"Shift 이후 이진수 출력: \",end='')\n",
    "\n",
    "while(k<64):\n",
    "    if((num1 & check) == 0):\n",
    "        print(\"0\", end = \"\")\n",
    "    else:\n",
    "        print(\"1\", end = \"\")\n",
    "    num1 = num1 << 1\n",
    "    i+=1"
   ]
  },
  {
   "cell_type": "raw",
   "id": "8f649e48",
   "metadata": {},
   "source": []
  },
  {
   "cell_type": "code",
   "execution_count": null,
   "id": "a9ef0961",
   "metadata": {},
   "outputs": [],
   "source": []
  }
 ],
 "metadata": {
  "kernelspec": {
   "display_name": "Python 3 (ipykernel)",
   "language": "python",
   "name": "python3"
  },
  "language_info": {
   "codemirror_mode": {
    "name": "ipython",
    "version": 3
   },
   "file_extension": ".py",
   "mimetype": "text/x-python",
   "name": "python",
   "nbconvert_exporter": "python",
   "pygments_lexer": "ipython3",
   "version": "3.8.10"
  }
 },
 "nbformat": 4,
 "nbformat_minor": 5
}
