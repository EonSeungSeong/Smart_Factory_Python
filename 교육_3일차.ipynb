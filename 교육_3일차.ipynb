{
 "cells": [
  {
   "cell_type": "code",
   "execution_count": 1,
   "id": "e5e81378",
   "metadata": {},
   "outputs": [
    {
     "data": {
      "text/plain": [
       "(1, 2, 3, 3, 4, 5)"
      ]
     },
     "execution_count": 1,
     "metadata": {},
     "output_type": "execute_result"
    }
   ],
   "source": [
    "a=(1,2,3)\n",
    "b=(3,4,5)\n",
    "a=a+b\n",
    "a"
   ]
  },
  {
   "cell_type": "code",
   "execution_count": 6,
   "id": "0a122070",
   "metadata": {},
   "outputs": [],
   "source": [
    "def swap(a,b):\n",
    "    return b,a"
   ]
  },
  {
   "cell_type": "code",
   "execution_count": 7,
   "id": "6485554e",
   "metadata": {},
   "outputs": [],
   "source": [
    "c,d=swap(1,2)"
   ]
  },
  {
   "cell_type": "code",
   "execution_count": 9,
   "id": "86a86989",
   "metadata": {},
   "outputs": [
    {
     "name": "stdout",
     "output_type": "stream",
     "text": [
      "2 1\n"
     ]
    },
    {
     "data": {
      "text/plain": [
       "int"
      ]
     },
     "execution_count": 9,
     "metadata": {},
     "output_type": "execute_result"
    }
   ],
   "source": [
    "print(c,d)\n",
    "type(c)"
   ]
  },
  {
   "cell_type": "code",
   "execution_count": 24,
   "id": "f22b547b",
   "metadata": {},
   "outputs": [
    {
     "name": "stdout",
     "output_type": "stream",
     "text": [
      "대상 문자열 입력: abcabc\n",
      "제거할 문자 입력: b\n",
      "결과 리스트는 ['c', 'a', 'c', 'a'] 입니다\n"
     ]
    }
   ],
   "source": [
    "s=list(input(\"대상 문자열 입력: \"))\n",
    "t=list(input(\"제거할 문자 입력: \"))\n",
    "\n",
    "#print(s)\n",
    "#위치매개변수\n",
    "def revsqeeze(s,t):\n",
    "    result=[]\n",
    "    for ix in range(len(s)):\n",
    "        if s[ix]!=t[0]:\n",
    "            result.append(s[ix])\n",
    "    tmp=result[::-1]#역순 reverse\n",
    "    return tmp\n",
    "fin=revsqeeze(s,t)\n",
    "print(\"결과 리스트는 {0} 입니다\".format(fin))\n",
    "\n",
    "\n",
    "    \n"
   ]
  },
  {
   "cell_type": "code",
   "execution_count": 37,
   "id": "29834400",
   "metadata": {
    "scrolled": true
   },
   "outputs": [
    {
     "name": "stdout",
     "output_type": "stream",
     "text": [
      "대상 문자열 입력: abcabc\n",
      "제거할 문자 입력: b\n",
      "결과 리스트는 ['c', 'a', 'c', 'a'] 입니다\n"
     ]
    }
   ],
   "source": [
    "s=list(input(\"대상 문자열 입력: \"))\n",
    "t=list(input(\"제거할 문자 입력: \"))\n",
    "\n",
    "#가변매개변수\n",
    "def revsqeeze(*args):\n",
    "    result=[]\n",
    "    for ix in range(len(args[0])):\n",
    "        if args[0][ix] not in args[1]:\n",
    "            result.append(args[0][ix])\n",
    "    tmp=result[::-1]#역순 reverse\n",
    "    return tmp\n",
    "fin=revsqeeze(s,t)\n",
    "print(\"결과 리스트는 {0} 입니다\".format(fin))"
   ]
  },
  {
   "cell_type": "code",
   "execution_count": 51,
   "id": "3872a6de",
   "metadata": {
    "scrolled": false
   },
   "outputs": [
    {
     "name": "stdout",
     "output_type": "stream",
     "text": [
      "s: 첫번째 문자열 입력: abcde\n",
      "t: 두번째 문자열 입력: abcdf\n",
      "-1\n"
     ]
    }
   ],
   "source": [
    "s=input(\"s: 첫번째 문자열 입력: \")\n",
    "t=input(\"t: 두번째 문자열 입력: \")\n",
    "\n",
    "def strcmp(s,t):\n",
    "    #문자열 최소개수만큼 반복 \n",
    "    for ix in range(min(len(s),len(t))):\n",
    "        s_ord,t_ord=ord(s[ix]),ord(t[ix])\n",
    "        if s_ord < t_ord:\n",
    "            return -1\n",
    "        elif s_ord > t_ord:\n",
    "            return 1\n",
    "        else:\n",
    "            continue\n",
    "    # 문자열 개수 차이가 있을 경우\n",
    "    if len(s) < len(t):\n",
    "        return -1\n",
    "    elif len(s) > len(t):\n",
    "        return 1\n",
    "    else:\n",
    "        return 0\n",
    "    \n",
    "result=strcmp(s,t)\n",
    "#print(s.count)\n",
    "print(result)\n",
    "        \n",
    "        \n"
   ]
  },
  {
   "cell_type": "code",
   "execution_count": 57,
   "id": "169310aa",
   "metadata": {},
   "outputs": [
    {
     "name": "stdout",
     "output_type": "stream",
     "text": [
      "s: 첫번째 문자열 입력: -23.5\n",
      "t: 두번째 문자열 입력: -12.3\n",
      "-1\n"
     ]
    }
   ],
   "source": [
    "s=input(\"s: 첫번째 문자열 입력: \")\n",
    "t=input(\"t: 두번째 문자열 입력: \")\n",
    "\n",
    "def numcmp(s,t):\n",
    "    num_s=float(s)\n",
    "    num_t=float(t)\n",
    "    if num_s > num_t:\n",
    "        return 1\n",
    "    elif num_s < num_t:\n",
    "        return -1\n",
    "    else:\n",
    "        return 0\n",
    "     \n",
    "result=numcmp(s,t)\n",
    "print(result)   "
   ]
  },
  {
   "cell_type": "code",
   "execution_count": 59,
   "id": "6557dd08",
   "metadata": {},
   "outputs": [
    {
     "data": {
      "text/plain": [
       "57"
      ]
     },
     "execution_count": 59,
     "metadata": {},
     "output_type": "execute_result"
    }
   ],
   "source": [
    "ord('9')"
   ]
  },
  {
   "cell_type": "code",
   "execution_count": 66,
   "id": "6af3c055",
   "metadata": {},
   "outputs": [
    {
     "name": "stdout",
     "output_type": "stream",
     "text": [
      "s: 첫번째 문자열 입력: -21.3\n",
      "t: 두번째 문자열 입력: -21.2\n",
      "-1\n"
     ]
    }
   ],
   "source": [
    "s=input(\"s: 첫번째 문자열 입력: \")\n",
    "t=input(\"t: 두번째 문자열 입력: \")\n",
    "\n",
    "def fcmp(s,t):\n",
    "    check=False \n",
    "    # S 체크\n",
    "    for ix in range(len(s)): \n",
    "        if s[ix].isdigit()==True: #숫자확인\n",
    "            continue\n",
    "        elif s[ix] =='-' or s[ix]=='.': #부호, 소수점 확인\n",
    "            continue\n",
    "        else:\n",
    "            check=True #문자 발견될 경우\n",
    "            break\n",
    "            \n",
    "    if check==True: #문자가 발견되면 strcmp실행\n",
    "        return strcmp\n",
    "    \n",
    "    else:\n",
    "        # T 체크\n",
    "        for ix in range(len(t)):\n",
    "            if t[ix].isdigit()==True: #숫자 확인\n",
    "                continue\n",
    "            elif t[ix] =='-' or t[ix]=='.': # 부호, 소수점 확인\n",
    "                continue\n",
    "            else: #문자 발견 시\n",
    "                check=True\n",
    "                break\n",
    "                \n",
    "    if check==True: #문자가 나올 경우\n",
    "        return strcmp\n",
    "    \n",
    "    else: #숫자 검출 시\n",
    "        return numcmp\n",
    "    \n",
    "result=fcmp(s,t)\n",
    "print(result(s,t))"
   ]
  },
  {
   "cell_type": "code",
   "execution_count": 88,
   "id": "c331d1e4",
   "metadata": {},
   "outputs": [
    {
     "ename": "KeyboardInterrupt",
     "evalue": "Interrupted by user",
     "output_type": "error",
     "traceback": [
      "\u001b[0;31m---------------------------------------------------------------------------\u001b[0m",
      "\u001b[0;31mKeyboardInterrupt\u001b[0m                         Traceback (most recent call last)",
      "Input \u001b[0;32mIn [88]\u001b[0m, in \u001b[0;36m<module>\u001b[0;34m\u001b[0m\n\u001b[0;32m----> 1\u001b[0m s\u001b[38;5;241m=\u001b[39m\u001b[38;5;28;43minput\u001b[39;49m\u001b[43m(\u001b[49m\u001b[38;5;124;43m\"\u001b[39;49m\u001b[38;5;124;43ms: 첫번째 문자열 입력: \u001b[39;49m\u001b[38;5;124;43m\"\u001b[39;49m\u001b[43m)\u001b[49m\n\u001b[1;32m      2\u001b[0m t\u001b[38;5;241m=\u001b[39m\u001b[38;5;28minput\u001b[39m(\u001b[38;5;124m\"\u001b[39m\u001b[38;5;124mt: 두번째 문자열 입력: \u001b[39m\u001b[38;5;124m\"\u001b[39m)\n\u001b[1;32m      4\u001b[0m \u001b[38;5;28;01mdef\u001b[39;00m \u001b[38;5;21mfcmp\u001b[39m(s,t):\n",
      "File \u001b[0;32m/usr/local/lib/python3.8/dist-packages/ipykernel/kernelbase.py:1044\u001b[0m, in \u001b[0;36mKernel.raw_input\u001b[0;34m(self, prompt)\u001b[0m\n\u001b[1;32m   1040\u001b[0m \u001b[38;5;28;01mif\u001b[39;00m \u001b[38;5;129;01mnot\u001b[39;00m \u001b[38;5;28mself\u001b[39m\u001b[38;5;241m.\u001b[39m_allow_stdin:\n\u001b[1;32m   1041\u001b[0m     \u001b[38;5;28;01mraise\u001b[39;00m StdinNotImplementedError(\n\u001b[1;32m   1042\u001b[0m         \u001b[38;5;124m\"\u001b[39m\u001b[38;5;124mraw_input was called, but this frontend does not support input requests.\u001b[39m\u001b[38;5;124m\"\u001b[39m\n\u001b[1;32m   1043\u001b[0m     )\n\u001b[0;32m-> 1044\u001b[0m \u001b[38;5;28;01mreturn\u001b[39;00m \u001b[38;5;28;43mself\u001b[39;49m\u001b[38;5;241;43m.\u001b[39;49m\u001b[43m_input_request\u001b[49m\u001b[43m(\u001b[49m\n\u001b[1;32m   1045\u001b[0m \u001b[43m    \u001b[49m\u001b[38;5;28;43mstr\u001b[39;49m\u001b[43m(\u001b[49m\u001b[43mprompt\u001b[49m\u001b[43m)\u001b[49m\u001b[43m,\u001b[49m\n\u001b[1;32m   1046\u001b[0m \u001b[43m    \u001b[49m\u001b[38;5;28;43mself\u001b[39;49m\u001b[38;5;241;43m.\u001b[39;49m\u001b[43m_parent_ident\u001b[49m\u001b[43m[\u001b[49m\u001b[38;5;124;43m\"\u001b[39;49m\u001b[38;5;124;43mshell\u001b[39;49m\u001b[38;5;124;43m\"\u001b[39;49m\u001b[43m]\u001b[49m\u001b[43m,\u001b[49m\n\u001b[1;32m   1047\u001b[0m \u001b[43m    \u001b[49m\u001b[38;5;28;43mself\u001b[39;49m\u001b[38;5;241;43m.\u001b[39;49m\u001b[43mget_parent\u001b[49m\u001b[43m(\u001b[49m\u001b[38;5;124;43m\"\u001b[39;49m\u001b[38;5;124;43mshell\u001b[39;49m\u001b[38;5;124;43m\"\u001b[39;49m\u001b[43m)\u001b[49m\u001b[43m,\u001b[49m\n\u001b[1;32m   1048\u001b[0m \u001b[43m    \u001b[49m\u001b[43mpassword\u001b[49m\u001b[38;5;241;43m=\u001b[39;49m\u001b[38;5;28;43;01mFalse\u001b[39;49;00m\u001b[43m,\u001b[49m\n\u001b[1;32m   1049\u001b[0m \u001b[43m\u001b[49m\u001b[43m)\u001b[49m\n",
      "File \u001b[0;32m/usr/local/lib/python3.8/dist-packages/ipykernel/kernelbase.py:1089\u001b[0m, in \u001b[0;36mKernel._input_request\u001b[0;34m(self, prompt, ident, parent, password)\u001b[0m\n\u001b[1;32m   1086\u001b[0m             \u001b[38;5;28;01mbreak\u001b[39;00m\n\u001b[1;32m   1087\u001b[0m \u001b[38;5;28;01mexcept\u001b[39;00m \u001b[38;5;167;01mKeyboardInterrupt\u001b[39;00m:\n\u001b[1;32m   1088\u001b[0m     \u001b[38;5;66;03m# re-raise KeyboardInterrupt, to truncate traceback\u001b[39;00m\n\u001b[0;32m-> 1089\u001b[0m     \u001b[38;5;28;01mraise\u001b[39;00m \u001b[38;5;167;01mKeyboardInterrupt\u001b[39;00m(\u001b[38;5;124m\"\u001b[39m\u001b[38;5;124mInterrupted by user\u001b[39m\u001b[38;5;124m\"\u001b[39m) \u001b[38;5;28;01mfrom\u001b[39;00m \u001b[38;5;28mNone\u001b[39m\n\u001b[1;32m   1090\u001b[0m \u001b[38;5;28;01mexcept\u001b[39;00m \u001b[38;5;167;01mException\u001b[39;00m:\n\u001b[1;32m   1091\u001b[0m     \u001b[38;5;28mself\u001b[39m\u001b[38;5;241m.\u001b[39mlog\u001b[38;5;241m.\u001b[39mwarning(\u001b[38;5;124m\"\u001b[39m\u001b[38;5;124mInvalid Message:\u001b[39m\u001b[38;5;124m\"\u001b[39m, exc_info\u001b[38;5;241m=\u001b[39m\u001b[38;5;28;01mTrue\u001b[39;00m)\n",
      "\u001b[0;31mKeyboardInterrupt\u001b[0m: Interrupted by user"
     ]
    }
   ],
   "source": [
    "s=input(\"s: 첫번째 문자열 입력: \")\n",
    "t=input(\"t: 두번째 문자열 입력: \")\n",
    "\n",
    "def fcmp(s,t):\n",
    "    def strcmp():\n",
    "        #문자열 최소개수만큼 반복 \n",
    "        for ix in range(min(len(s),len(t))):\n",
    "            s_ord,t_ord=ord(s[ix]),ord(t[ix])\n",
    "            if s_ord < t_ord:\n",
    "                return -1\n",
    "            elif s_ord > t_ord:\n",
    "                return 1\n",
    "            else:\n",
    "                continue\n",
    "        # 문자열 개수 차이가 있을 경우\n",
    "        if len(s) < len(t):\n",
    "            return -1\n",
    "        elif len(s) > len(t):\n",
    "            return 1\n",
    "        else:\n",
    "            return 0\n",
    "\n",
    "    def numcmp():\n",
    "        num_s=float(s)\n",
    "        num_t=float(t)\n",
    "        if num_s > num_t:\n",
    "            return 1\n",
    "        elif num_s < num_t:\n",
    "            return -1\n",
    "        else:\n",
    "            return 0\n",
    "\n",
    "    check=False     \n",
    "    # S 체크\n",
    "    if t[0]=='-': \n",
    "        for ix in range(len(s)):\n",
    "            if s[ix].isdigit()==True: #숫자확인\n",
    "                continue\n",
    "            elif s[ix]=='.': #부호, 소수점 확인\n",
    "                continue\n",
    "            else:\n",
    "                check=True #문자 발견될 경우\n",
    "                break\n",
    "        if check==True: #문자가 발견되면 strcmp실행\n",
    "            return strcmp\n",
    "        else:\n",
    "            if t[0]=='-': #첫문자열 부호체크\n",
    "                # T 체크\n",
    "                for ix in range(len(t)):\n",
    "\n",
    "                    if t[ix].isdigit()==True: #숫자 확인\n",
    "                        continue\n",
    "                    elif t[ix]=='.': # 부호, 소수점 확인\n",
    "                        continue\n",
    "                    else: #문자 발견 시\n",
    "                        check=True\n",
    "                        break\n",
    "            else:\n",
    "                pass\n",
    "    else:\n",
    "        pass\n",
    "    if check==True: #문자가 나올 경우\n",
    "        return strcmp\n",
    "    \n",
    "    else: #숫자 검출 시\n",
    "        return numcmp\n",
    "    \n",
    "result=fcmp(s,t)\n",
    "print(result())"
   ]
  },
  {
   "cell_type": "code",
   "execution_count": 90,
   "id": "24ab7b7a",
   "metadata": {},
   "outputs": [
    {
     "name": "stdout",
     "output_type": "stream",
     "text": [
      "s: 첫번째 문자열 입력: abc\n",
      "t: 두번째 문자열 입력: abd\n",
      "-1\n"
     ]
    }
   ],
   "source": [
    "s=input(\"s: 첫번째 문자열 입력: \")\n",
    "t=input(\"t: 두번째 문자열 입력: \")\n",
    "\n",
    "def fcmp(s,t):\n",
    "    def strcmp():\n",
    "        #문자열 최소개수만큼 반복 \n",
    "        for ix in range(min(len(s),len(t))):\n",
    "            s_ord,t_ord=ord(s[ix]),ord(t[ix])\n",
    "            if s_ord < t_ord:\n",
    "                return -1\n",
    "            elif s_ord > t_ord:\n",
    "                return 1\n",
    "            else:\n",
    "                continue\n",
    "        # 문자열 개수 차이가 있을 경우\n",
    "        if len(s) < len(t):\n",
    "            return -1\n",
    "        elif len(s) > len(t):\n",
    "            return 1\n",
    "        else:\n",
    "            return 0\n",
    "\n",
    "    def numcmp():\n",
    "        num_s=float(s)\n",
    "        num_t=float(t)\n",
    "        if num_s > num_t:\n",
    "            return 1\n",
    "        elif num_s < num_t:\n",
    "            return -1\n",
    "        else:\n",
    "            return 0\n",
    "\n",
    "    check=False     \n",
    "    # S 체크\n",
    "    for ix in range(len(s)):\n",
    "        if s[ix].isdigit()==True: #숫자확인\n",
    "            continue\n",
    "        elif s[ix]=='.': #부호, 소수점 확인\n",
    "            continue\n",
    "        else:\n",
    "            check=True #문자 발견될 경우\n",
    "            break\n",
    "    if check==True: #문자가 발견되면 strcmp실행\n",
    "        return strcmp\n",
    "    else:\n",
    "        if t[0]=='-': #첫문자열 부호체크\n",
    "            # T 체크\n",
    "            for ix in range(len(t)):\n",
    "\n",
    "                if t[ix].isdigit()==True: #숫자 확인\n",
    "                    continue\n",
    "                elif t[ix]=='.': # 부호, 소수점 확인\n",
    "                    continue\n",
    "                else: #문자 발견 시\n",
    "                    check=True\n",
    "    \n",
    "    \n",
    "    if check==True: #문자가 나올 경우\n",
    "        return strcmp \n",
    "    else: #숫자 검출 시\n",
    "        return numcmp\n",
    "    \n",
    "result=fcmp(s,t)\n",
    "print(result())"
   ]
  }
 ],
 "metadata": {
  "kernelspec": {
   "display_name": "Python 3 (ipykernel)",
   "language": "python",
   "name": "python3"
  },
  "language_info": {
   "codemirror_mode": {
    "name": "ipython",
    "version": 3
   },
   "file_extension": ".py",
   "mimetype": "text/x-python",
   "name": "python",
   "nbconvert_exporter": "python",
   "pygments_lexer": "ipython3",
   "version": "3.8.10"
  }
 },
 "nbformat": 4,
 "nbformat_minor": 5
}
