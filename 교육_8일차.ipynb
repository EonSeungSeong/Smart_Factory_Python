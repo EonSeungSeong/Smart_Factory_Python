{
 "cells": [
  {
   "cell_type": "code",
   "execution_count": 94,
   "id": "da72e327",
   "metadata": {},
   "outputs": [
    {
     "name": "stdout",
     "output_type": "stream",
     "text": [
      "['201712', '201803', '201806', '201809', '201812', '201903', '201906', '201909']\n",
      "[76923, 80719, 81248, 88742, 95650, 97415, 98217, 98779]\n"
     ]
    },
    {
     "data": {
      "image/png": "[encoded data removed]",
      "text/plain": [
       "<Figure size 576x288 with 1 Axes>"
      ]
     },
     "metadata": {
      "needs_background": "light"
     },
     "output_type": "display_data"
    }
   ],
   "source": [
    "import csv\n",
    "import matplotlib.pyplot as plt\n",
    "import numpy as np\n",
    "import pandas as pd\n",
    "from matplotlib import rc\n",
    "\n",
    "data=pd.read_csv(\"./cafe_2year.csv\")\n",
    "#Dataframe-> 리스트 변경\n",
    "x_data=data['기준월'].tolist()\n",
    "y_data=data['카페수'].tolist()\n",
    "\n",
    "#x축 값(날짜) 정수->문자열 전환\n",
    "for ix in range(len(x_data)):\n",
    "    result=str(x_data[ix])\n",
    "    x_data[ix]=result\n",
    "#=================================================\n",
    "print(x_data[2::3])\n",
    "print(y_data[2::3])\n",
    "\n",
    "%matplotlib inline\n",
    "plt.rcParams[\"figure.figsize\"] = (8,4)\n",
    "rc('font', family='Malgun Gothic')\n",
    "plt.bar(x_data[2::3],y_data[2::3]) #2017년12월부터 3달 간격으로 출력\n",
    "plt.title(\"The Number of cafe\")\n",
    "plt.xlabel(\"year/month\")\n",
    "plt.ylabel(\"cafe\")\n",
    "\n",
    "plt.ylim(y_data[2],100000)#y축 최소값은 2017년 12월 값 최댓값은 2019년 9월\n",
    "plt.yticks(y_data[2::3])\n",
    "\n",
    "plt.show()"
   ]
  },
  {
   "cell_type": "code",
   "execution_count": 169,
   "id": "4fb7a145",
   "metadata": {
    "scrolled": false
   },
   "outputs": [
    {
     "data": {
      "text/html": [
       "<div>\n",
       "<style scoped>\n",
       "    .dataframe tbody tr th:only-of-type {\n",
       "        vertical-align: middle;\n",
       "    }\n",
       "\n",
       "    .dataframe tbody tr th {\n",
       "        vertical-align: top;\n",
       "    }\n",
       "\n",
       "    .dataframe thead th {\n",
       "        text-align: right;\n",
       "    }\n",
       "</style>\n",
       "<table border=\"1\" class=\"dataframe\">\n",
       "  <thead>\n",
       "    <tr style=\"text-align: right;\">\n",
       "      <th></th>\n",
       "      <th>일반의 수</th>\n",
       "      <th>인턴 수</th>\n",
       "      <th>레지던트 수</th>\n",
       "      <th>전문의 수</th>\n",
       "    </tr>\n",
       "    <tr>\n",
       "      <th>지역</th>\n",
       "      <th></th>\n",
       "      <th></th>\n",
       "      <th></th>\n",
       "      <th></th>\n",
       "    </tr>\n",
       "  </thead>\n",
       "  <tbody>\n",
       "    <tr>\n",
       "      <th>서울</th>\n",
       "      <td>162</td>\n",
       "      <td>1196</td>\n",
       "      <td>4757</td>\n",
       "      <td>9375</td>\n",
       "    </tr>\n",
       "    <tr>\n",
       "      <th>부산</th>\n",
       "      <td>58</td>\n",
       "      <td>197</td>\n",
       "      <td>785</td>\n",
       "      <td>2211</td>\n",
       "    </tr>\n",
       "    <tr>\n",
       "      <th>인천</th>\n",
       "      <td>47</td>\n",
       "      <td>138</td>\n",
       "      <td>444</td>\n",
       "      <td>1518</td>\n",
       "    </tr>\n",
       "    <tr>\n",
       "      <th>대구</th>\n",
       "      <td>27</td>\n",
       "      <td>215</td>\n",
       "      <td>712</td>\n",
       "      <td>1436</td>\n",
       "    </tr>\n",
       "    <tr>\n",
       "      <th>광주</th>\n",
       "      <td>16</td>\n",
       "      <td>102</td>\n",
       "      <td>356</td>\n",
       "      <td>1006</td>\n",
       "    </tr>\n",
       "    <tr>\n",
       "      <th>대전</th>\n",
       "      <td>25</td>\n",
       "      <td>142</td>\n",
       "      <td>425</td>\n",
       "      <td>1006</td>\n",
       "    </tr>\n",
       "    <tr>\n",
       "      <th>울산</th>\n",
       "      <td>19</td>\n",
       "      <td>23</td>\n",
       "      <td>104</td>\n",
       "      <td>467</td>\n",
       "    </tr>\n",
       "  </tbody>\n",
       "</table>\n",
       "</div>"
      ],
      "text/plain": [
       "    일반의 수  인턴 수  레지던트 수  전문의 수\n",
       "지역                            \n",
       "서울    162  1196    4757   9375\n",
       "부산     58   197     785   2211\n",
       "인천     47   138     444   1518\n",
       "대구     27   215     712   1436\n",
       "광주     16   102     356   1006\n",
       "대전     25   142     425   1006\n",
       "울산     19    23     104    467"
      ]
     },
     "execution_count": 169,
     "metadata": {},
     "output_type": "execute_result"
    }
   ],
   "source": [
    "#2번\n",
    "data=pd.read_csv(\"./doctor_2019.csv\")\n",
    "\n",
    "#광역시만 추출하여 재저장\n",
    "city_list=[\"서울\", '부산', '대구', '인천', '광주', '대전','울산']\n",
    "data=data[data['지역'].isin(city_list)]\n",
    "#data.head()\n",
    "#groupby-> 지역별로 묶어 합계추출\n",
    "data=data.groupby(data['지역']).sum().sort_values('전문의 수',ascending=False)\n",
    "data"
   ]
  },
  {
   "cell_type": "code",
   "execution_count": 200,
   "id": "49e09202",
   "metadata": {
    "scrolled": false
   },
   "outputs": [
    {
     "data": {
      "text/html": [
       "<div>\n",
       "<style scoped>\n",
       "    .dataframe tbody tr th:only-of-type {\n",
       "        vertical-align: middle;\n",
       "    }\n",
       "\n",
       "    .dataframe tbody tr th {\n",
       "        vertical-align: top;\n",
       "    }\n",
       "\n",
       "    .dataframe thead th {\n",
       "        text-align: right;\n",
       "    }\n",
       "</style>\n",
       "<table border=\"1\" class=\"dataframe\">\n",
       "  <thead>\n",
       "    <tr style=\"text-align: right;\">\n",
       "      <th></th>\n",
       "      <th>지역</th>\n",
       "      <th>일반의 수</th>\n",
       "      <th>인턴 수</th>\n",
       "      <th>레지던트 수</th>\n",
       "      <th>전문의 수</th>\n",
       "    </tr>\n",
       "  </thead>\n",
       "  <tbody>\n",
       "    <tr>\n",
       "      <th>0</th>\n",
       "      <td>서울</td>\n",
       "      <td>162</td>\n",
       "      <td>1196</td>\n",
       "      <td>4757</td>\n",
       "      <td>9375</td>\n",
       "    </tr>\n",
       "    <tr>\n",
       "      <th>1</th>\n",
       "      <td>부산</td>\n",
       "      <td>58</td>\n",
       "      <td>197</td>\n",
       "      <td>785</td>\n",
       "      <td>2211</td>\n",
       "    </tr>\n",
       "    <tr>\n",
       "      <th>2</th>\n",
       "      <td>인천</td>\n",
       "      <td>47</td>\n",
       "      <td>138</td>\n",
       "      <td>444</td>\n",
       "      <td>1518</td>\n",
       "    </tr>\n",
       "    <tr>\n",
       "      <th>3</th>\n",
       "      <td>대구</td>\n",
       "      <td>27</td>\n",
       "      <td>215</td>\n",
       "      <td>712</td>\n",
       "      <td>1436</td>\n",
       "    </tr>\n",
       "    <tr>\n",
       "      <th>4</th>\n",
       "      <td>광주</td>\n",
       "      <td>16</td>\n",
       "      <td>102</td>\n",
       "      <td>356</td>\n",
       "      <td>1006</td>\n",
       "    </tr>\n",
       "    <tr>\n",
       "      <th>5</th>\n",
       "      <td>대전</td>\n",
       "      <td>25</td>\n",
       "      <td>142</td>\n",
       "      <td>425</td>\n",
       "      <td>1006</td>\n",
       "    </tr>\n",
       "    <tr>\n",
       "      <th>6</th>\n",
       "      <td>울산</td>\n",
       "      <td>19</td>\n",
       "      <td>23</td>\n",
       "      <td>104</td>\n",
       "      <td>467</td>\n",
       "    </tr>\n",
       "  </tbody>\n",
       "</table>\n",
       "</div>"
      ],
      "text/plain": [
       "   지역  일반의 수  인턴 수  레지던트 수  전문의 수\n",
       "0  서울    162  1196    4757   9375\n",
       "1  부산     58   197     785   2211\n",
       "2  인천     47   138     444   1518\n",
       "3  대구     27   215     712   1436\n",
       "4  광주     16   102     356   1006\n",
       "5  대전     25   142     425   1006\n",
       "6  울산     19    23     104    467"
      ]
     },
     "execution_count": 200,
     "metadata": {},
     "output_type": "execute_result"
    }
   ],
   "source": [
    "#3번 \n",
    "data.to_csv(\"doctor2.csv\") #csv로 저장\n",
    "\n",
    "doctor2=pd.read_csv('doctor2.csv') #읽기 test\n",
    "doctor2"
   ]
  },
  {
   "cell_type": "code",
   "execution_count": 255,
   "id": "963629a9",
   "metadata": {},
   "outputs": [
    {
     "name": "stdout",
     "output_type": "stream",
     "text": [
      "[9375, 2211, 1518, 1436, 1006, 1006, 467]\n",
      "['seoul', 'busan', 'incheon', 'daegu', 'kwangju', 'daejeon', 'ulsan']\n"
     ]
    },
    {
     "data": {
      "text/plain": [
       "<matplotlib.collections.PathCollection at 0x7f9e16962160>"
      ]
     },
     "execution_count": 255,
     "metadata": {},
     "output_type": "execute_result"
    },
    {
     "data": {
      "image/png": "[encoded data removed]",
      "text/plain": [
       "<Figure size 576x288 with 1 Axes>"
      ]
     },
     "metadata": {
      "needs_background": "light"
     },
     "output_type": "display_data"
    }
   ],
   "source": [
    "#4번\n",
    "doc_data=doctor2['전문의 수'].tolist()\n",
    "city_data=doctor2['지역'].tolist() #한글 안깨질 때\n",
    "city_data=[\"seoul\",'busan','incheon','daegu','kwangju','daejeon','ulsan']\n",
    "print(doc_data)\n",
    "print(city_data)\n",
    "\n",
    "plt.title(\"The Number of Doctor\")\n",
    "plt.ylabel(\"Count\")\n",
    "plt.scatter(city_data,doc_data)"
   ]
  },
  {
   "cell_type": "code",
   "execution_count": 257,
   "id": "c25027de",
   "metadata": {},
   "outputs": [
    {
     "data": {
      "text/plain": [
       "[<matplotlib.lines.Line2D at 0x7f9e130de790>]"
      ]
     },
     "execution_count": 257,
     "metadata": {},
     "output_type": "execute_result"
    },
    {
     "data": {
      "image/png": "[encoded data removed]",
      "text/plain": [
       "<Figure size 576x288 with 1 Axes>"
      ]
     },
     "metadata": {
      "needs_background": "light"
     },
     "output_type": "display_data"
    }
   ],
   "source": [
    "#5번\n",
    "city_data=doctor2['지역'].tolist() #한글 안깨질 때\n",
    "city_data=[\"seoul\",'busan','incheon','daegu','kwangju','daejeon','ulsan']\n",
    "\n",
    "doc_data1=doctor2['일반의 수'].tolist()\n",
    "#print(doc_data1)\n",
    "doc_data2=doctor2['인턴 수'].tolist()\n",
    "doc_data3=doctor2['레지던트 수'].tolist()\n",
    "doc_data4=doctor2['전문의 수'].tolist()\n",
    "\n",
    "plt.plot(city_data,doc_data1,linestyle='-',marker='o',color='purple')\n",
    "plt.plot(city_data,doc_data2,linestyle=':',marker='x',color='blue')\n",
    "plt.plot(city_data,doc_data3,linestyle='--',marker='s',color='yellow')\n",
    "plt.plot(city_data,doc_data4,linestyle='-.',marker='x',color='red')"
   ]
  },
  {
   "cell_type": "code",
   "execution_count": 261,
   "id": "339f1c45",
   "metadata": {
    "scrolled": false
   },
   "outputs": [
    {
     "name": "stdout",
     "output_type": "stream",
     "text": [
      "['일반의 수', '인턴 수', '레지던트 수', '전문의 수']\n",
      "[162, 1196, 4757, 9375]\n"
     ]
    },
    {
     "data": {
      "image/png": "[encoded data removed]",
      "text/plain": [
       "<Figure size 576x288 with 1 Axes>"
      ]
     },
     "metadata": {},
     "output_type": "display_data"
    }
   ],
   "source": [
    "#6번\n",
    "doc_type=data.columns.tolist()\n",
    "print(doc_type)\n",
    "\n",
    "data_doc=doctor2.loc[doctor2['지역']=='서울']\n",
    "count=data_doc.loc[0].tolist()[1:]\n",
    "print(count)\n",
    "\n",
    "plt.pie(count,explode=(0,0.1,0,0),labels=doc_type,autopct='%1.1f%%'\\\n",
    "        ,startangle=90)\n",
    "plt.show()"
   ]
  }
 ],
 "metadata": {
  "kernelspec": {
   "display_name": "Python 3 (ipykernel)",
   "language": "python",
   "name": "python3"
  },
  "language_info": {
   "codemirror_mode": {
    "name": "ipython",
    "version": 3
   },
   "file_extension": ".py",
   "mimetype": "text/x-python",
   "name": "python",
   "nbconvert_exporter": "python",
   "pygments_lexer": "ipython3",
   "version": "3.8.10"
  }
 },
 "nbformat": 4,
 "nbformat_minor": 5
}
